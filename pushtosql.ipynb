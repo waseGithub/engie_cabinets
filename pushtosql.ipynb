{
 "cells": [
  {
   "cell_type": "code",
   "execution_count": 1,
   "metadata": {},
   "outputs": [],
   "source": [
    "import pandas as pd\n",
    "\n",
    "data = pd.read_csv (r'flowmeter.csv')   \n",
    "df = pd.DataFrame(data)\n",
    "# display(df)\n"
   ]
  },
  {
   "cell_type": "code",
   "execution_count": 2,
   "metadata": {},
   "outputs": [
    {
     "name": "stderr",
     "output_type": "stream",
     "text": [
      "/home/harvey/.local/lib/python3.6/site-packages/google/auth/crypt/_cryptography_rsa.py:22: CryptographyDeprecationWarning: Python 3.6 is no longer supported by the Python core team. Therefore, support for it is deprecated in cryptography and will be removed in a future release.\n",
      "  import cryptography.exceptions\n"
     ]
    }
   ],
   "source": [
    "import sqlite3\n",
    "from google.cloud import storage\n",
    "import pandas as pd \n",
    "import numpy as np\n",
    "from datetime import datetime\n",
    "import mysql.connector \n",
    "import sys \n",
    "\n",
    "\n",
    "cnx = mysql.connector.connect(user='root', password='wase2022', host='34.89.81.147', database='cabinet_datasets')\n",
    "cursor = cnx.cursor()\n",
    "cols = \"`,`\".join([str(i) for i in df.columns.tolist()])\n",
    "\n",
    "\n",
    "for i,row in df.iterrows():\n",
    "    sql = \"INSERT INTO `flowmeter` (`\" +cols + \"`) VALUES (\" + \"%s,\"*(len(row)-1) + \"%s)\"\n",
    "    cursor.execute(sql, tuple(row))\n",
    "    cnx.commit()"
   ]
  },
  {
   "cell_type": "code",
   "execution_count": 3,
   "metadata": {},
   "outputs": [
    {
     "name": "stdout",
     "output_type": "stream",
     "text": [
      "(4, 'Cellu 10', 284369, 0, 0, 4, 5.17, 21.5, 1017.91, 1, 4.815, 4.815, 1, 4.815, 1, 4.815, 2.014)\n",
      "(4, 'Cellu 10', 284369, 0, 0, 4, 5.17, 21.5, 1017.91, 1, 4.815, 4.815, 1, 4.815, 1, 4.815, 2.014)\n",
      "(4, 'Cellu 10', 284369, 0, 0, 4, 5.17, 21.5, 1017.91, 1, 4.815, 4.815, 1, 4.815, 1, 4.815, 2.014)\n",
      "(4, 'Cellu 10', 284369, 0, 0, 4, 5.17, 21.5, 1017.91, 1, 4.815, 4.815, 1, 4.815, 1, 4.815, 2.014)\n",
      "(4, 'Cellu 10', 284369, 0, 0, 4, 5.17, 21.5, 1017.91, 1, 4.815, 4.815, 1, 4.815, 1, 4.815, 2.014)\n",
      "(4, 'Cellu 10', 284369, 0, 0, 4, 5.17, 21.5, 1017.91, 1, 4.815, 4.815, 1, 4.815, 1, 4.815, 2.014)\n",
      "(4, 'Cellu 10', 284369, 0, 0, 4, 5.17, 21.5, 1017.91, 1, 4.815, 4.815, 1, 4.815, 1, 4.815, 2.014)\n",
      "(4, 'Cellu 10', 284369, 0, 0, 4, 5.17, 21.5, 1017.91, 1, 4.815, 4.815, 1, 4.815, 1, 4.815, 2.014)\n",
      "(4, 'Cellu 10', 284369, 0, 0, 4, 5.17, 21.5, 1017.91, 1, 4.815, 4.815, 1, 4.815, 1, 4.815, 2.014)\n",
      "(4, 'Cellu 10', 284369, 0, 0, 4, 5.17, 21.5, 1017.91, 1, 4.815, 4.815, 1, 4.815, 1, 4.815, 2.014)\n",
      "(4, 'Cellu 10', 284369, 0, 0, 4, 5.17, 21.5, 1017.91, 1, 4.815, 4.815, 1, 4.815, 1, 4.815, 2.014)\n",
      "(4, 'Cellu 10', 284369, 0, 0, 4, 5.17, 21.5, 1017.91, 1, 4.815, 4.815, 1, 4.815, 1, 4.815, 2.014)\n",
      "(4, 'Cellu 10', 284369, 0, 0, 4, 5.17, 21.5, 1017.91, 1, 4.815, 4.815, 1, 4.815, 1, 4.815, 2.014)\n",
      "(4, 'Cellu 10', 284369, 0, 0, 4, 5.17, 21.5, 1017.91, 1, 4.815, 4.815, 1, 4.815, 1, 4.815, 2.014)\n",
      "(4, 'Cellu 10', 284369, 0, 0, 4, 5.17, 21.5, 1017.91, 1, 4.815, 4.815, 1, 4.815, 1, 4.815, 2.014)\n",
      "(4, 'Cellu 10', 284369, 0, 0, 4, 5.17, 21.5, 1017.91, 1, 4.815, 4.815, 1, 4.815, 1, 4.815, 2.014)\n",
      "(4, 'Cellu 10', 284369, 0, 0, 4, 5.17, 21.5, 1017.91, 1, 4.815, 4.815, 1, 4.815, 1, 4.815, 2.014)\n",
      "(4, 'Cellu 10', 284369, 0, 0, 4, 5.17, 21.5, 1017.91, 1, 4.815, 4.815, 1, 4.815, 1, 4.815, 2.014)\n",
      "(4, 'Cellu 10', 284369, 0, 0, 4, 5.17, 21.5, 1017.91, 1, 4.815, 4.815, 1, 4.815, 1, 4.815, 2.014)\n",
      "(4, 'Cellu 10', 284369, 0, 0, 4, 5.17, 21.5, 1017.91, 1, 4.815, 4.815, 1, 4.815, 1, 4.815, 2.014)\n",
      "(4, 'Cellu 10', 284369, 0, 0, 4, 5.17, 21.5, 1017.91, 1, 4.815, 4.815, 1, 4.815, 1, 4.815, 2.014)\n",
      "(4, 'Cellu 10', 284369, 0, 0, 4, 5.17, 21.5, 1017.91, 1, 4.815, 4.815, 1, 4.815, 1, 4.815, 2.014)\n",
      "(4, 'Cellu 10', 284369, 0, 0, 4, 5.17, 21.5, 1017.91, 1, 4.815, 4.815, 1, 4.815, 1, 4.815, 2.014)\n",
      "(4, 'Cellu 10', 284369, 0, 0, 4, 5.17, 21.5, 1017.91, 1, 4.815, 4.815, 1, 4.815, 1, 4.815, 2.014)\n",
      "(4, 'Cellu 10', 284369, 0, 0, 4, 5.17, 21.5, 1017.91, 1, 4.815, 4.815, 1, 4.815, 1, 4.815, 2.014)\n",
      "(4, 'Cellu 10', 284369, 0, 0, 4, 5.17, 21.5, 1017.91, 1, 4.815, 4.815, 1, 4.815, 1, 4.815, 2.014)\n"
     ]
    }
   ],
   "source": [
    "# Create cursor\n",
    "my_cursor = cnx.cursor()\n",
    "\n",
    "# Execute Query\n",
    "my_cursor.execute(\"SELECT * from cab\")\n",
    "\n",
    "# Fetch the records\n",
    "result = my_cursor.fetchall()\n",
    "\n",
    "for i in result:\n",
    "    print(i)\n",
    "\n",
    "# Close the connection\n",
    "cnx.close()"
   ]
  }
 ],
 "metadata": {
  "kernelspec": {
   "display_name": "Python 3.6.9 64-bit",
   "language": "python",
   "name": "python3"
  },
  "language_info": {
   "codemirror_mode": {
    "name": "ipython",
    "version": 3
   },
   "file_extension": ".py",
   "mimetype": "text/x-python",
   "name": "python",
   "nbconvert_exporter": "python",
   "pygments_lexer": "ipython3",
   "version": "3.8.10 (default, Jun 22 2022, 20:18:18) \n[GCC 9.4.0]"
  },
  "orig_nbformat": 4,
  "vscode": {
   "interpreter": {
    "hash": "31f2aee4e71d21fbe5cf8b01ff0e069b9275f58929596ceb00d14d90e3e16cd6"
   }
  }
 },
 "nbformat": 4,
 "nbformat_minor": 2
}
